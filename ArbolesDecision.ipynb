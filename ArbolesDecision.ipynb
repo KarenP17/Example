{
  "nbformat": 4,
  "nbformat_minor": 0,
  "metadata": {
    "colab": {
      "name": "ArbolesDecision.ipynb",
      "provenance": [],
      "include_colab_link": true
    },
    "kernelspec": {
      "name": "python3",
      "display_name": "Python 3"
    },
    "language_info": {
      "name": "python"
    }
  },
  "cells": [
    {
      "cell_type": "markdown",
      "metadata": {
        "id": "view-in-github",
        "colab_type": "text"
      },
      "source": [
        "<a href=\"https://colab.research.google.com/github/KarenP17/Example/blob/main/ArbolesDecision.ipynb\" target=\"_parent\"><img src=\"https://colab.research.google.com/assets/colab-badge.svg\" alt=\"Open In Colab\"/></a>"
      ]
    },
    {
      "cell_type": "code",
      "execution_count": null,
      "metadata": {
        "id": "XwAO0bDAUxhS"
      },
      "outputs": [],
      "source": [
        "import pandas as pd #Contiene funciones que nos ayudan en el análisis de datos"
      ]
    },
    {
      "cell_type": "markdown",
      "source": [
        "Importando los datos"
      ],
      "metadata": {
        "id": "iXe0C7t3YOBx"
      }
    },
    {
      "cell_type": "code",
      "source": [
        "#Obtenemos los datos contenidos en nuestro archivo csv\n",
        "madres = pd.read_csv('/content/Maternal Health Risk Data Set.csv', engine='python', index_col=0)\n"
      ],
      "metadata": {
        "id": "6OVGxwZeVJeU"
      },
      "execution_count": 54,
      "outputs": []
    },
    {
      "cell_type": "code",
      "source": [
        "madres.head()"
      ],
      "metadata": {
        "colab": {
          "base_uri": "https://localhost:8080/",
          "height": 238
        },
        "id": "NQdWUdHhWg53",
        "outputId": "b89f4fff-efd3-49ca-b4e8-88407ecc741a"
      },
      "execution_count": null,
      "outputs": [
        {
          "output_type": "execute_result",
          "data": {
            "text/plain": [
              "     SystolicBP  DiastolicBP  BS  BodyTemp  HeartRate  RiskLevel_high risk  \\\n",
              "Age                                                                          \n",
              "25          130           80  15        98         86                    1   \n",
              "35          140           90  13        98         70                    1   \n",
              "29           90           70   8       100         80                    1   \n",
              "30          140           85   7        98         70                    1   \n",
              "35          120           60   6        98         76                    0   \n",
              "\n",
              "     RiskLevel_low risk  RiskLevel_mid risk  pred  \n",
              "Age                                                \n",
              "25                    0                   0   140  \n",
              "35                    0                   0   140  \n",
              "29                    0                   0    90  \n",
              "30                    0                   0   140  \n",
              "35                    1                   0    90  "
            ],
            "text/html": [
              "\n",
              "  <div id=\"df-ce012f71-b8bd-4fd5-a3bc-348faacb5738\">\n",
              "    <div class=\"colab-df-container\">\n",
              "      <div>\n",
              "<style scoped>\n",
              "    .dataframe tbody tr th:only-of-type {\n",
              "        vertical-align: middle;\n",
              "    }\n",
              "\n",
              "    .dataframe tbody tr th {\n",
              "        vertical-align: top;\n",
              "    }\n",
              "\n",
              "    .dataframe thead th {\n",
              "        text-align: right;\n",
              "    }\n",
              "</style>\n",
              "<table border=\"1\" class=\"dataframe\">\n",
              "  <thead>\n",
              "    <tr style=\"text-align: right;\">\n",
              "      <th></th>\n",
              "      <th>SystolicBP</th>\n",
              "      <th>DiastolicBP</th>\n",
              "      <th>BS</th>\n",
              "      <th>BodyTemp</th>\n",
              "      <th>HeartRate</th>\n",
              "      <th>RiskLevel_high risk</th>\n",
              "      <th>RiskLevel_low risk</th>\n",
              "      <th>RiskLevel_mid risk</th>\n",
              "      <th>pred</th>\n",
              "    </tr>\n",
              "    <tr>\n",
              "      <th>Age</th>\n",
              "      <th></th>\n",
              "      <th></th>\n",
              "      <th></th>\n",
              "      <th></th>\n",
              "      <th></th>\n",
              "      <th></th>\n",
              "      <th></th>\n",
              "      <th></th>\n",
              "      <th></th>\n",
              "    </tr>\n",
              "  </thead>\n",
              "  <tbody>\n",
              "    <tr>\n",
              "      <th>25</th>\n",
              "      <td>130</td>\n",
              "      <td>80</td>\n",
              "      <td>15</td>\n",
              "      <td>98</td>\n",
              "      <td>86</td>\n",
              "      <td>1</td>\n",
              "      <td>0</td>\n",
              "      <td>0</td>\n",
              "      <td>140</td>\n",
              "    </tr>\n",
              "    <tr>\n",
              "      <th>35</th>\n",
              "      <td>140</td>\n",
              "      <td>90</td>\n",
              "      <td>13</td>\n",
              "      <td>98</td>\n",
              "      <td>70</td>\n",
              "      <td>1</td>\n",
              "      <td>0</td>\n",
              "      <td>0</td>\n",
              "      <td>140</td>\n",
              "    </tr>\n",
              "    <tr>\n",
              "      <th>29</th>\n",
              "      <td>90</td>\n",
              "      <td>70</td>\n",
              "      <td>8</td>\n",
              "      <td>100</td>\n",
              "      <td>80</td>\n",
              "      <td>1</td>\n",
              "      <td>0</td>\n",
              "      <td>0</td>\n",
              "      <td>90</td>\n",
              "    </tr>\n",
              "    <tr>\n",
              "      <th>30</th>\n",
              "      <td>140</td>\n",
              "      <td>85</td>\n",
              "      <td>7</td>\n",
              "      <td>98</td>\n",
              "      <td>70</td>\n",
              "      <td>1</td>\n",
              "      <td>0</td>\n",
              "      <td>0</td>\n",
              "      <td>140</td>\n",
              "    </tr>\n",
              "    <tr>\n",
              "      <th>35</th>\n",
              "      <td>120</td>\n",
              "      <td>60</td>\n",
              "      <td>6</td>\n",
              "      <td>98</td>\n",
              "      <td>76</td>\n",
              "      <td>0</td>\n",
              "      <td>1</td>\n",
              "      <td>0</td>\n",
              "      <td>90</td>\n",
              "    </tr>\n",
              "  </tbody>\n",
              "</table>\n",
              "</div>\n",
              "      <button class=\"colab-df-convert\" onclick=\"convertToInteractive('df-ce012f71-b8bd-4fd5-a3bc-348faacb5738')\"\n",
              "              title=\"Convert this dataframe to an interactive table.\"\n",
              "              style=\"display:none;\">\n",
              "        \n",
              "  <svg xmlns=\"http://www.w3.org/2000/svg\" height=\"24px\"viewBox=\"0 0 24 24\"\n",
              "       width=\"24px\">\n",
              "    <path d=\"M0 0h24v24H0V0z\" fill=\"none\"/>\n",
              "    <path d=\"M18.56 5.44l.94 2.06.94-2.06 2.06-.94-2.06-.94-.94-2.06-.94 2.06-2.06.94zm-11 1L8.5 8.5l.94-2.06 2.06-.94-2.06-.94L8.5 2.5l-.94 2.06-2.06.94zm10 10l.94 2.06.94-2.06 2.06-.94-2.06-.94-.94-2.06-.94 2.06-2.06.94z\"/><path d=\"M17.41 7.96l-1.37-1.37c-.4-.4-.92-.59-1.43-.59-.52 0-1.04.2-1.43.59L10.3 9.45l-7.72 7.72c-.78.78-.78 2.05 0 2.83L4 21.41c.39.39.9.59 1.41.59.51 0 1.02-.2 1.41-.59l7.78-7.78 2.81-2.81c.8-.78.8-2.07 0-2.86zM5.41 20L4 18.59l7.72-7.72 1.47 1.35L5.41 20z\"/>\n",
              "  </svg>\n",
              "      </button>\n",
              "      \n",
              "  <style>\n",
              "    .colab-df-container {\n",
              "      display:flex;\n",
              "      flex-wrap:wrap;\n",
              "      gap: 12px;\n",
              "    }\n",
              "\n",
              "    .colab-df-convert {\n",
              "      background-color: #E8F0FE;\n",
              "      border: none;\n",
              "      border-radius: 50%;\n",
              "      cursor: pointer;\n",
              "      display: none;\n",
              "      fill: #1967D2;\n",
              "      height: 32px;\n",
              "      padding: 0 0 0 0;\n",
              "      width: 32px;\n",
              "    }\n",
              "\n",
              "    .colab-df-convert:hover {\n",
              "      background-color: #E2EBFA;\n",
              "      box-shadow: 0px 1px 2px rgba(60, 64, 67, 0.3), 0px 1px 3px 1px rgba(60, 64, 67, 0.15);\n",
              "      fill: #174EA6;\n",
              "    }\n",
              "\n",
              "    [theme=dark] .colab-df-convert {\n",
              "      background-color: #3B4455;\n",
              "      fill: #D2E3FC;\n",
              "    }\n",
              "\n",
              "    [theme=dark] .colab-df-convert:hover {\n",
              "      background-color: #434B5C;\n",
              "      box-shadow: 0px 1px 3px 1px rgba(0, 0, 0, 0.15);\n",
              "      filter: drop-shadow(0px 1px 2px rgba(0, 0, 0, 0.3));\n",
              "      fill: #FFFFFF;\n",
              "    }\n",
              "  </style>\n",
              "\n",
              "      <script>\n",
              "        const buttonEl =\n",
              "          document.querySelector('#df-ce012f71-b8bd-4fd5-a3bc-348faacb5738 button.colab-df-convert');\n",
              "        buttonEl.style.display =\n",
              "          google.colab.kernel.accessAllowed ? 'block' : 'none';\n",
              "\n",
              "        async function convertToInteractive(key) {\n",
              "          const element = document.querySelector('#df-ce012f71-b8bd-4fd5-a3bc-348faacb5738');\n",
              "          const dataTable =\n",
              "            await google.colab.kernel.invokeFunction('convertToInteractive',\n",
              "                                                     [key], {});\n",
              "          if (!dataTable) return;\n",
              "\n",
              "          const docLinkHtml = 'Like what you see? Visit the ' +\n",
              "            '<a target=\"_blank\" href=https://colab.research.google.com/notebooks/data_table.ipynb>data table notebook</a>'\n",
              "            + ' to learn more about interactive tables.';\n",
              "          element.innerHTML = '';\n",
              "          dataTable['output_type'] = 'display_data';\n",
              "          await google.colab.output.renderOutput(dataTable, element);\n",
              "          const docLink = document.createElement('div');\n",
              "          docLink.innerHTML = docLinkHtml;\n",
              "          element.appendChild(docLink);\n",
              "        }\n",
              "      </script>\n",
              "    </div>\n",
              "  </div>\n",
              "  "
            ]
          },
          "metadata": {},
          "execution_count": 21
        }
      ]
    },
    {
      "cell_type": "markdown",
      "source": [
        "Mostramos las cinco primeras filas"
      ],
      "metadata": {
        "id": "ba2lVWEHYoCW"
      }
    },
    {
      "cell_type": "code",
      "source": [
        "madres.info()"
      ],
      "metadata": {
        "colab": {
          "base_uri": "https://localhost:8080/"
        },
        "id": "pvw_f01DW7YX",
        "outputId": "70d1b813-373d-405c-8718-5db8d19e5ff7"
      },
      "execution_count": null,
      "outputs": [
        {
          "output_type": "stream",
          "name": "stdout",
          "text": [
            "<class 'pandas.core.frame.DataFrame'>\n",
            "Int64Index: 1014 entries, 25 to 32\n",
            "Data columns (total 6 columns):\n",
            " #   Column       Non-Null Count  Dtype  \n",
            "---  ------       --------------  -----  \n",
            " 0   SystolicBP   1014 non-null   int64  \n",
            " 1   DiastolicBP  1014 non-null   int64  \n",
            " 2   BS           1014 non-null   float64\n",
            " 3   BodyTemp     1014 non-null   float64\n",
            " 4   HeartRate    1014 non-null   int64  \n",
            " 5   RiskLevel    1014 non-null   object \n",
            "dtypes: float64(2), int64(3), object(1)\n",
            "memory usage: 55.5+ KB\n"
          ]
        }
      ]
    },
    {
      "cell_type": "markdown",
      "source": [
        "Se cargaron correctamente las variables"
      ],
      "metadata": {
        "id": "aIh7b9TpZK8w"
      }
    },
    {
      "cell_type": "code",
      "source": [
        "#Convertimos los valores float de la columna Dtype a enteros\n",
        "madres.dtypes"
      ],
      "metadata": {
        "colab": {
          "base_uri": "https://localhost:8080/"
        },
        "id": "A1a1B_vlp5iN",
        "outputId": "c152866d-f56f-40fc-ec5d-0077a812e3ff"
      },
      "execution_count": null,
      "outputs": [
        {
          "output_type": "execute_result",
          "data": {
            "text/plain": [
              "SystolicBP       int64\n",
              "DiastolicBP      int64\n",
              "BS             float64\n",
              "BodyTemp       float64\n",
              "HeartRate        int64\n",
              "RiskLevel       object\n",
              "dtype: object"
            ]
          },
          "metadata": {},
          "execution_count": 5
        }
      ]
    },
    {
      "cell_type": "code",
      "source": [
        "madres.BS = madres.BS.astype(int)\n",
        "madres.BodyTemp = madres.BodyTemp.astype(int)"
      ],
      "metadata": {
        "id": "HqVYOvBUqDfk"
      },
      "execution_count": null,
      "outputs": []
    },
    {
      "cell_type": "code",
      "source": [
        "nivelRiesgo_dummy = pd.get_dummies(madres[\"RiskLevel\"], prefix=\"RiskLevel\")\n",
        "madres = pd.concat([madres, nivelRiesgo_dummy], axis = 1)\n",
        "del madres['RiskLevel']"
      ],
      "metadata": {
        "id": "ArcQjbbEyEdu"
      },
      "execution_count": null,
      "outputs": []
    },
    {
      "cell_type": "code",
      "source": [
        "madres.dtypes"
      ],
      "metadata": {
        "colab": {
          "base_uri": "https://localhost:8080/"
        },
        "id": "wlsvEf1JqYEH",
        "outputId": "a84edeb5-6446-4d21-f5e4-6c96a8b7539b"
      },
      "execution_count": null,
      "outputs": [
        {
          "output_type": "execute_result",
          "data": {
            "text/plain": [
              "SystolicBP             int64\n",
              "DiastolicBP            int64\n",
              "BS                     int64\n",
              "BodyTemp               int64\n",
              "HeartRate              int64\n",
              "RiskLevel_high risk    uint8\n",
              "RiskLevel_low risk     uint8\n",
              "RiskLevel_mid risk     uint8\n",
              "dtype: object"
            ]
          },
          "metadata": {},
          "execution_count": 8
        }
      ]
    },
    {
      "cell_type": "code",
      "source": [
        "#Variables explicativas, todas menos la columna systolicBP\n",
        "X = madres.drop(columns= 'SystolicBP')\n",
        "#Objetivo\n",
        "Y = madres.SystolicBP"
      ],
      "metadata": {
        "id": "zgM-hPTDXzOu"
      },
      "execution_count": null,
      "outputs": []
    },
    {
      "cell_type": "markdown",
      "source": [
        "Creamos el modelo del arbol de decisión"
      ],
      "metadata": {
        "id": "-fO_7KBPfz66"
      }
    },
    {
      "cell_type": "code",
      "source": [
        "from sklearn.tree import DecisionTreeClassifier\n",
        "\n",
        "#Llamamos al constructor del arbol de decisión\n",
        "arbol = DecisionTreeClassifier(max_depth=2)\n",
        "\n",
        "#Entrenamos el modelo\n",
        "arbol_prec = arbol.fit(X,Y)"
      ],
      "metadata": {
        "id": "GCxBh0SLf4q1"
      },
      "execution_count": null,
      "outputs": []
    },
    {
      "cell_type": "markdown",
      "source": [
        "Graficamos el arbol de decisión"
      ],
      "metadata": {
        "id": "vJ9L24otiqVD"
      }
    },
    {
      "cell_type": "code",
      "source": [
        "from matplotlib import pyplot as plt  \n",
        "from sklearn.tree import plot_tree\n",
        "\n",
        "plt.figure(figsize=(25,18))\n",
        "\n",
        "plot_tree(decision_tree=arbol_prec, feature_names=X.columns, filled=True, fontsize=15);\n"
      ],
      "metadata": {
        "colab": {
          "base_uri": "https://localhost:8080/",
          "height": 891
        },
        "id": "Wibl7goFitA0",
        "outputId": "e31168e2-2e75-44b9-f6d0-22451cee2c6d"
      },
      "execution_count": null,
      "outputs": [
        {
          "output_type": "display_data",
          "data": {
            "text/plain": [
              "<Figure size 1800x1296 with 1 Axes>"
            ],
            "image/png": "[encoded data removed]"
          },
          "metadata": {
            "needs_background": "light"
          }
        }
      ]
    },
    {
      "cell_type": "markdown",
      "source": [
        "Hacemos una prueba con un dato para calcular la predicción"
      ],
      "metadata": {
        "id": "c_F37caR4KNa"
      }
    },
    {
      "cell_type": "code",
      "source": [
        "a = X.sample\n",
        "a"
      ],
      "metadata": {
        "id": "ZXFqpAwU4dzq",
        "colab": {
          "base_uri": "https://localhost:8080/"
        },
        "outputId": "01fe1b7c-b7af-4274-b431-417771923713"
      },
      "execution_count": null,
      "outputs": [
        {
          "output_type": "execute_result",
          "data": {
            "text/plain": [
              "<bound method NDFrame.sample of      DiastolicBP  BS  BodyTemp  HeartRate  RiskLevel_high risk  \\\n",
              "Age                                                              \n",
              "25            80  15        98         86                    1   \n",
              "35            90  13        98         70                    1   \n",
              "29            70   8       100         80                    1   \n",
              "30            85   7        98         70                    1   \n",
              "35            60   6        98         76                    0   \n",
              "..           ...  ..       ...        ...                  ...   \n",
              "22            60  15        98         80                    1   \n",
              "55            90  18        98         60                    1   \n",
              "35            60  19        98         86                    1   \n",
              "43            90  18        98         70                    1   \n",
              "32            65   6       101         76                    0   \n",
              "\n",
              "     RiskLevel_low risk  RiskLevel_mid risk  \n",
              "Age                                          \n",
              "25                    0                   0  \n",
              "35                    0                   0  \n",
              "29                    0                   0  \n",
              "30                    0                   0  \n",
              "35                    1                   0  \n",
              "..                  ...                 ...  \n",
              "22                    0                   0  \n",
              "55                    0                   0  \n",
              "35                    0                   0  \n",
              "43                    0                   0  \n",
              "32                    0                   1  \n",
              "\n",
              "[1014 rows x 7 columns]>"
            ]
          },
          "metadata": {},
          "execution_count": 12
        }
      ]
    },
    {
      "cell_type": "code",
      "source": [
        "#Tabla original \n",
        "madres"
      ],
      "metadata": {
        "id": "mQpx_ju_58dq",
        "colab": {
          "base_uri": "https://localhost:8080/",
          "height": 455
        },
        "outputId": "dd2263da-ea4d-465a-952b-c9c136a9d47a"
      },
      "execution_count": null,
      "outputs": [
        {
          "output_type": "execute_result",
          "data": {
            "text/plain": [
              "     SystolicBP  DiastolicBP  BS  BodyTemp  HeartRate  RiskLevel_high risk  \\\n",
              "Age                                                                          \n",
              "25          130           80  15        98         86                    1   \n",
              "35          140           90  13        98         70                    1   \n",
              "29           90           70   8       100         80                    1   \n",
              "30          140           85   7        98         70                    1   \n",
              "35          120           60   6        98         76                    0   \n",
              "..          ...          ...  ..       ...        ...                  ...   \n",
              "22          120           60  15        98         80                    1   \n",
              "55          120           90  18        98         60                    1   \n",
              "35           85           60  19        98         86                    1   \n",
              "43          120           90  18        98         70                    1   \n",
              "32          120           65   6       101         76                    0   \n",
              "\n",
              "     RiskLevel_low risk  RiskLevel_mid risk  \n",
              "Age                                          \n",
              "25                    0                   0  \n",
              "35                    0                   0  \n",
              "29                    0                   0  \n",
              "30                    0                   0  \n",
              "35                    1                   0  \n",
              "..                  ...                 ...  \n",
              "22                    0                   0  \n",
              "55                    0                   0  \n",
              "35                    0                   0  \n",
              "43                    0                   0  \n",
              "32                    0                   1  \n",
              "\n",
              "[1014 rows x 8 columns]"
            ],
            "text/html": [
              "\n",
              "  <div id=\"df-f0c597d8-835f-44d5-b282-762c0069cbd6\">\n",
              "    <div class=\"colab-df-container\">\n",
              "      <div>\n",
              "<style scoped>\n",
              "    .dataframe tbody tr th:only-of-type {\n",
              "        vertical-align: middle;\n",
              "    }\n",
              "\n",
              "    .dataframe tbody tr th {\n",
              "        vertical-align: top;\n",
              "    }\n",
              "\n",
              "    .dataframe thead th {\n",
              "        text-align: right;\n",
              "    }\n",
              "</style>\n",
              "<table border=\"1\" class=\"dataframe\">\n",
              "  <thead>\n",
              "    <tr style=\"text-align: right;\">\n",
              "      <th></th>\n",
              "      <th>SystolicBP</th>\n",
              "      <th>DiastolicBP</th>\n",
              "      <th>BS</th>\n",
              "      <th>BodyTemp</th>\n",
              "      <th>HeartRate</th>\n",
              "      <th>RiskLevel_high risk</th>\n",
              "      <th>RiskLevel_low risk</th>\n",
              "      <th>RiskLevel_mid risk</th>\n",
              "    </tr>\n",
              "    <tr>\n",
              "      <th>Age</th>\n",
              "      <th></th>\n",
              "      <th></th>\n",
              "      <th></th>\n",
              "      <th></th>\n",
              "      <th></th>\n",
              "      <th></th>\n",
              "      <th></th>\n",
              "      <th></th>\n",
              "    </tr>\n",
              "  </thead>\n",
              "  <tbody>\n",
              "    <tr>\n",
              "      <th>25</th>\n",
              "      <td>130</td>\n",
              "      <td>80</td>\n",
              "      <td>15</td>\n",
              "      <td>98</td>\n",
              "      <td>86</td>\n",
              "      <td>1</td>\n",
              "      <td>0</td>\n",
              "      <td>0</td>\n",
              "    </tr>\n",
              "    <tr>\n",
              "      <th>35</th>\n",
              "      <td>140</td>\n",
              "      <td>90</td>\n",
              "      <td>13</td>\n",
              "      <td>98</td>\n",
              "      <td>70</td>\n",
              "      <td>1</td>\n",
              "      <td>0</td>\n",
              "      <td>0</td>\n",
              "    </tr>\n",
              "    <tr>\n",
              "      <th>29</th>\n",
              "      <td>90</td>\n",
              "      <td>70</td>\n",
              "      <td>8</td>\n",
              "      <td>100</td>\n",
              "      <td>80</td>\n",
              "      <td>1</td>\n",
              "      <td>0</td>\n",
              "      <td>0</td>\n",
              "    </tr>\n",
              "    <tr>\n",
              "      <th>30</th>\n",
              "      <td>140</td>\n",
              "      <td>85</td>\n",
              "      <td>7</td>\n",
              "      <td>98</td>\n",
              "      <td>70</td>\n",
              "      <td>1</td>\n",
              "      <td>0</td>\n",
              "      <td>0</td>\n",
              "    </tr>\n",
              "    <tr>\n",
              "      <th>35</th>\n",
              "      <td>120</td>\n",
              "      <td>60</td>\n",
              "      <td>6</td>\n",
              "      <td>98</td>\n",
              "      <td>76</td>\n",
              "      <td>0</td>\n",
              "      <td>1</td>\n",
              "      <td>0</td>\n",
              "    </tr>\n",
              "    <tr>\n",
              "      <th>...</th>\n",
              "      <td>...</td>\n",
              "      <td>...</td>\n",
              "      <td>...</td>\n",
              "      <td>...</td>\n",
              "      <td>...</td>\n",
              "      <td>...</td>\n",
              "      <td>...</td>\n",
              "      <td>...</td>\n",
              "    </tr>\n",
              "    <tr>\n",
              "      <th>22</th>\n",
              "      <td>120</td>\n",
              "      <td>60</td>\n",
              "      <td>15</td>\n",
              "      <td>98</td>\n",
              "      <td>80</td>\n",
              "      <td>1</td>\n",
              "      <td>0</td>\n",
              "      <td>0</td>\n",
              "    </tr>\n",
              "    <tr>\n",
              "      <th>55</th>\n",
              "      <td>120</td>\n",
              "      <td>90</td>\n",
              "      <td>18</td>\n",
              "      <td>98</td>\n",
              "      <td>60</td>\n",
              "      <td>1</td>\n",
              "      <td>0</td>\n",
              "      <td>0</td>\n",
              "    </tr>\n",
              "    <tr>\n",
              "      <th>35</th>\n",
              "      <td>85</td>\n",
              "      <td>60</td>\n",
              "      <td>19</td>\n",
              "      <td>98</td>\n",
              "      <td>86</td>\n",
              "      <td>1</td>\n",
              "      <td>0</td>\n",
              "      <td>0</td>\n",
              "    </tr>\n",
              "    <tr>\n",
              "      <th>43</th>\n",
              "      <td>120</td>\n",
              "      <td>90</td>\n",
              "      <td>18</td>\n",
              "      <td>98</td>\n",
              "      <td>70</td>\n",
              "      <td>1</td>\n",
              "      <td>0</td>\n",
              "      <td>0</td>\n",
              "    </tr>\n",
              "    <tr>\n",
              "      <th>32</th>\n",
              "      <td>120</td>\n",
              "      <td>65</td>\n",
              "      <td>6</td>\n",
              "      <td>101</td>\n",
              "      <td>76</td>\n",
              "      <td>0</td>\n",
              "      <td>0</td>\n",
              "      <td>1</td>\n",
              "    </tr>\n",
              "  </tbody>\n",
              "</table>\n",
              "<p>1014 rows × 8 columns</p>\n",
              "</div>\n",
              "      <button class=\"colab-df-convert\" onclick=\"convertToInteractive('df-f0c597d8-835f-44d5-b282-762c0069cbd6')\"\n",
              "              title=\"Convert this dataframe to an interactive table.\"\n",
              "              style=\"display:none;\">\n",
              "        \n",
              "  <svg xmlns=\"http://www.w3.org/2000/svg\" height=\"24px\"viewBox=\"0 0 24 24\"\n",
              "       width=\"24px\">\n",
              "    <path d=\"M0 0h24v24H0V0z\" fill=\"none\"/>\n",
              "    <path d=\"M18.56 5.44l.94 2.06.94-2.06 2.06-.94-2.06-.94-.94-2.06-.94 2.06-2.06.94zm-11 1L8.5 8.5l.94-2.06 2.06-.94-2.06-.94L8.5 2.5l-.94 2.06-2.06.94zm10 10l.94 2.06.94-2.06 2.06-.94-2.06-.94-.94-2.06-.94 2.06-2.06.94z\"/><path d=\"M17.41 7.96l-1.37-1.37c-.4-.4-.92-.59-1.43-.59-.52 0-1.04.2-1.43.59L10.3 9.45l-7.72 7.72c-.78.78-.78 2.05 0 2.83L4 21.41c.39.39.9.59 1.41.59.51 0 1.02-.2 1.41-.59l7.78-7.78 2.81-2.81c.8-.78.8-2.07 0-2.86zM5.41 20L4 18.59l7.72-7.72 1.47 1.35L5.41 20z\"/>\n",
              "  </svg>\n",
              "      </button>\n",
              "      \n",
              "  <style>\n",
              "    .colab-df-container {\n",
              "      display:flex;\n",
              "      flex-wrap:wrap;\n",
              "      gap: 12px;\n",
              "    }\n",
              "\n",
              "    .colab-df-convert {\n",
              "      background-color: #E8F0FE;\n",
              "      border: none;\n",
              "      border-radius: 50%;\n",
              "      cursor: pointer;\n",
              "      display: none;\n",
              "      fill: #1967D2;\n",
              "      height: 32px;\n",
              "      padding: 0 0 0 0;\n",
              "      width: 32px;\n",
              "    }\n",
              "\n",
              "    .colab-df-convert:hover {\n",
              "      background-color: #E2EBFA;\n",
              "      box-shadow: 0px 1px 2px rgba(60, 64, 67, 0.3), 0px 1px 3px 1px rgba(60, 64, 67, 0.15);\n",
              "      fill: #174EA6;\n",
              "    }\n",
              "\n",
              "    [theme=dark] .colab-df-convert {\n",
              "      background-color: #3B4455;\n",
              "      fill: #D2E3FC;\n",
              "    }\n",
              "\n",
              "    [theme=dark] .colab-df-convert:hover {\n",
              "      background-color: #434B5C;\n",
              "      box-shadow: 0px 1px 3px 1px rgba(0, 0, 0, 0.15);\n",
              "      filter: drop-shadow(0px 1px 2px rgba(0, 0, 0, 0.3));\n",
              "      fill: #FFFFFF;\n",
              "    }\n",
              "  </style>\n",
              "\n",
              "      <script>\n",
              "        const buttonEl =\n",
              "          document.querySelector('#df-f0c597d8-835f-44d5-b282-762c0069cbd6 button.colab-df-convert');\n",
              "        buttonEl.style.display =\n",
              "          google.colab.kernel.accessAllowed ? 'block' : 'none';\n",
              "\n",
              "        async function convertToInteractive(key) {\n",
              "          const element = document.querySelector('#df-f0c597d8-835f-44d5-b282-762c0069cbd6');\n",
              "          const dataTable =\n",
              "            await google.colab.kernel.invokeFunction('convertToInteractive',\n",
              "                                                     [key], {});\n",
              "          if (!dataTable) return;\n",
              "\n",
              "          const docLinkHtml = 'Like what you see? Visit the ' +\n",
              "            '<a target=\"_blank\" href=https://colab.research.google.com/notebooks/data_table.ipynb>data table notebook</a>'\n",
              "            + ' to learn more about interactive tables.';\n",
              "          element.innerHTML = '';\n",
              "          dataTable['output_type'] = 'display_data';\n",
              "          await google.colab.output.renderOutput(dataTable, element);\n",
              "          const docLink = document.createElement('div');\n",
              "          docLink.innerHTML = docLinkHtml;\n",
              "          element.appendChild(docLink);\n",
              "        }\n",
              "      </script>\n",
              "    </div>\n",
              "  </div>\n",
              "  "
            ]
          },
          "metadata": {},
          "execution_count": 14
        }
      ]
    },
    {
      "cell_type": "markdown",
      "source": [
        "Para la madre de 25 años que aparece en el primer lugar de la tabla en la prueba de predicción, se concluyó que hace parte junto con 382 personas que sufren de un nivel de riesgo alto"
      ],
      "metadata": {
        "id": "1NfUTJseGjR-"
      }
    },
    {
      "cell_type": "markdown",
      "source": [
        "Se concluyó que son en total 1014 madres gestantes con tendencia de Presión arterial elevada"
      ],
      "metadata": {
        "id": "IJbqljOVGFkg"
      }
    },
    {
      "cell_type": "code",
      "source": [
        "y_pred= arbol_prec.predict(X)"
      ],
      "metadata": {
        "id": "6Vuxp99xDK4z"
      },
      "execution_count": 57,
      "outputs": []
    },
    {
      "cell_type": "markdown",
      "source": [
        "En los resultados, algunas madres de 22 y 55 años tienen presión arterial alta, pero según la predicción dice que está baja"
      ],
      "metadata": {
        "id": "u7SAvy3wNkuv"
      }
    },
    {
      "cell_type": "code",
      "source": [
        "madres['pred'] = y_pred\n",
        "madres.sample(5)[['SystolicBP', 'pred']]"
      ],
      "metadata": {
        "colab": {
          "base_uri": "https://localhost:8080/",
          "height": 238
        },
        "id": "RAfrLmQFG-BZ",
        "outputId": "0f570a5c-002d-4ae5-80a5-7c5e98e3b2cb"
      },
      "execution_count": 59,
      "outputs": [
        {
          "output_type": "execute_result",
          "data": {
            "text/plain": [
              "     SystolicBP  pred\n",
              "Age                  \n",
              "55          110   120\n",
              "19          120   120\n",
              "22          100    90\n",
              "60          120   120\n",
              "35          120   120"
            ],
            "text/html": [
              "\n",
              "  <div id=\"df-b29f170f-96a8-47f3-bc9c-8c2d98812fc7\">\n",
              "    <div class=\"colab-df-container\">\n",
              "      <div>\n",
              "<style scoped>\n",
              "    .dataframe tbody tr th:only-of-type {\n",
              "        vertical-align: middle;\n",
              "    }\n",
              "\n",
              "    .dataframe tbody tr th {\n",
              "        vertical-align: top;\n",
              "    }\n",
              "\n",
              "    .dataframe thead th {\n",
              "        text-align: right;\n",
              "    }\n",
              "</style>\n",
              "<table border=\"1\" class=\"dataframe\">\n",
              "  <thead>\n",
              "    <tr style=\"text-align: right;\">\n",
              "      <th></th>\n",
              "      <th>SystolicBP</th>\n",
              "      <th>pred</th>\n",
              "    </tr>\n",
              "    <tr>\n",
              "      <th>Age</th>\n",
              "      <th></th>\n",
              "      <th></th>\n",
              "    </tr>\n",
              "  </thead>\n",
              "  <tbody>\n",
              "    <tr>\n",
              "      <th>55</th>\n",
              "      <td>110</td>\n",
              "      <td>120</td>\n",
              "    </tr>\n",
              "    <tr>\n",
              "      <th>19</th>\n",
              "      <td>120</td>\n",
              "      <td>120</td>\n",
              "    </tr>\n",
              "    <tr>\n",
              "      <th>22</th>\n",
              "      <td>100</td>\n",
              "      <td>90</td>\n",
              "    </tr>\n",
              "    <tr>\n",
              "      <th>60</th>\n",
              "      <td>120</td>\n",
              "      <td>120</td>\n",
              "    </tr>\n",
              "    <tr>\n",
              "      <th>35</th>\n",
              "      <td>120</td>\n",
              "      <td>120</td>\n",
              "    </tr>\n",
              "  </tbody>\n",
              "</table>\n",
              "</div>\n",
              "      <button class=\"colab-df-convert\" onclick=\"convertToInteractive('df-b29f170f-96a8-47f3-bc9c-8c2d98812fc7')\"\n",
              "              title=\"Convert this dataframe to an interactive table.\"\n",
              "              style=\"display:none;\">\n",
              "        \n",
              "  <svg xmlns=\"http://www.w3.org/2000/svg\" height=\"24px\"viewBox=\"0 0 24 24\"\n",
              "       width=\"24px\">\n",
              "    <path d=\"M0 0h24v24H0V0z\" fill=\"none\"/>\n",
              "    <path d=\"M18.56 5.44l.94 2.06.94-2.06 2.06-.94-2.06-.94-.94-2.06-.94 2.06-2.06.94zm-11 1L8.5 8.5l.94-2.06 2.06-.94-2.06-.94L8.5 2.5l-.94 2.06-2.06.94zm10 10l.94 2.06.94-2.06 2.06-.94-2.06-.94-.94-2.06-.94 2.06-2.06.94z\"/><path d=\"M17.41 7.96l-1.37-1.37c-.4-.4-.92-.59-1.43-.59-.52 0-1.04.2-1.43.59L10.3 9.45l-7.72 7.72c-.78.78-.78 2.05 0 2.83L4 21.41c.39.39.9.59 1.41.59.51 0 1.02-.2 1.41-.59l7.78-7.78 2.81-2.81c.8-.78.8-2.07 0-2.86zM5.41 20L4 18.59l7.72-7.72 1.47 1.35L5.41 20z\"/>\n",
              "  </svg>\n",
              "      </button>\n",
              "      \n",
              "  <style>\n",
              "    .colab-df-container {\n",
              "      display:flex;\n",
              "      flex-wrap:wrap;\n",
              "      gap: 12px;\n",
              "    }\n",
              "\n",
              "    .colab-df-convert {\n",
              "      background-color: #E8F0FE;\n",
              "      border: none;\n",
              "      border-radius: 50%;\n",
              "      cursor: pointer;\n",
              "      display: none;\n",
              "      fill: #1967D2;\n",
              "      height: 32px;\n",
              "      padding: 0 0 0 0;\n",
              "      width: 32px;\n",
              "    }\n",
              "\n",
              "    .colab-df-convert:hover {\n",
              "      background-color: #E2EBFA;\n",
              "      box-shadow: 0px 1px 2px rgba(60, 64, 67, 0.3), 0px 1px 3px 1px rgba(60, 64, 67, 0.15);\n",
              "      fill: #174EA6;\n",
              "    }\n",
              "\n",
              "    [theme=dark] .colab-df-convert {\n",
              "      background-color: #3B4455;\n",
              "      fill: #D2E3FC;\n",
              "    }\n",
              "\n",
              "    [theme=dark] .colab-df-convert:hover {\n",
              "      background-color: #434B5C;\n",
              "      box-shadow: 0px 1px 3px 1px rgba(0, 0, 0, 0.15);\n",
              "      filter: drop-shadow(0px 1px 2px rgba(0, 0, 0, 0.3));\n",
              "      fill: #FFFFFF;\n",
              "    }\n",
              "  </style>\n",
              "\n",
              "      <script>\n",
              "        const buttonEl =\n",
              "          document.querySelector('#df-b29f170f-96a8-47f3-bc9c-8c2d98812fc7 button.colab-df-convert');\n",
              "        buttonEl.style.display =\n",
              "          google.colab.kernel.accessAllowed ? 'block' : 'none';\n",
              "\n",
              "        async function convertToInteractive(key) {\n",
              "          const element = document.querySelector('#df-b29f170f-96a8-47f3-bc9c-8c2d98812fc7');\n",
              "          const dataTable =\n",
              "            await google.colab.kernel.invokeFunction('convertToInteractive',\n",
              "                                                     [key], {});\n",
              "          if (!dataTable) return;\n",
              "\n",
              "          const docLinkHtml = 'Like what you see? Visit the ' +\n",
              "            '<a target=\"_blank\" href=https://colab.research.google.com/notebooks/data_table.ipynb>data table notebook</a>'\n",
              "            + ' to learn more about interactive tables.';\n",
              "          element.innerHTML = '';\n",
              "          dataTable['output_type'] = 'display_data';\n",
              "          await google.colab.output.renderOutput(dataTable, element);\n",
              "          const docLink = document.createElement('div');\n",
              "          docLink.innerHTML = docLinkHtml;\n",
              "          element.appendChild(docLink);\n",
              "        }\n",
              "      </script>\n",
              "    </div>\n",
              "  </div>\n",
              "  "
            ]
          },
          "metadata": {},
          "execution_count": 59
        }
      ]
    },
    {
      "cell_type": "markdown",
      "source": [
        "Realizamos la comparación de los aciertos según la edad en TRUE o FALSE"
      ],
      "metadata": {
        "id": "jk0n6B0TPYDI"
      }
    },
    {
      "cell_type": "code",
      "source": [
        "madres['SystolicBP'] == madres['pred']"
      ],
      "metadata": {
        "colab": {
          "base_uri": "https://localhost:8080/"
        },
        "id": "IEAwjUvjPe35",
        "outputId": "dcb4026f-3d66-47d9-fe15-e4ba48d78ed1"
      },
      "execution_count": null,
      "outputs": [
        {
          "output_type": "execute_result",
          "data": {
            "text/plain": [
              "Age\n",
              "25    False\n",
              "35     True\n",
              "29     True\n",
              "30     True\n",
              "35    False\n",
              "      ...  \n",
              "22    False\n",
              "55    False\n",
              "35     True\n",
              "43    False\n",
              "32    False\n",
              "Length: 1014, dtype: bool"
            ]
          },
          "metadata": {},
          "execution_count": 17
        }
      ]
    },
    {
      "cell_type": "markdown",
      "source": [
        "Nos muestra el número de aciertos con el modelo"
      ],
      "metadata": {
        "id": "ji4oE_QPQDoC"
      }
    },
    {
      "cell_type": "code",
      "source": [
        "(madres['SystolicBP'] == madres['pred']).sum()"
      ],
      "metadata": {
        "colab": {
          "base_uri": "https://localhost:8080/"
        },
        "id": "po3DoizrPry2",
        "outputId": "97bb113c-2687-4e7f-f022-0f495d43a641"
      },
      "execution_count": null,
      "outputs": [
        {
          "output_type": "execute_result",
          "data": {
            "text/plain": [
              "640"
            ]
          },
          "metadata": {},
          "execution_count": 18
        }
      ]
    },
    {
      "cell_type": "markdown",
      "source": [
        "Calcular la media"
      ],
      "metadata": {
        "id": "WKhrDuONQ8yn"
      }
    },
    {
      "cell_type": "code",
      "source": [
        "(madres['SystolicBP'] == madres['pred']).mean()"
      ],
      "metadata": {
        "colab": {
          "base_uri": "https://localhost:8080/"
        },
        "id": "lB1U2zbzQbqG",
        "outputId": "74dce1a2-e327-48d2-d03f-9733dd78f7c9"
      },
      "execution_count": null,
      "outputs": [
        {
          "output_type": "execute_result",
          "data": {
            "text/plain": [
              "0.631163708086785"
            ]
          },
          "metadata": {},
          "execution_count": 19
        }
      ]
    },
    {
      "cell_type": "markdown",
      "source": [
        "Calcular el porcentaje de aciertos, en conclusión el modelo es bueno en 63%"
      ],
      "metadata": {
        "id": "2a0YuttzQW4h"
      }
    },
    {
      "cell_type": "code",
      "source": [
        "(madres['SystolicBP'] == madres['pred']).sum()/1014"
      ],
      "metadata": {
        "colab": {
          "base_uri": "https://localhost:8080/"
        },
        "id": "zAB1x3sNQJ5G",
        "outputId": "5ba0a408-65db-49d5-f022-b8d5919b79ec"
      },
      "execution_count": null,
      "outputs": [
        {
          "output_type": "execute_result",
          "data": {
            "text/plain": [
              "0.631163708086785"
            ]
          },
          "metadata": {},
          "execution_count": 20
        }
      ]
    },
    {
      "cell_type": "markdown",
      "source": [
        "Creamos el histograma del nivel de mujeres gestantes con presion arterial elevada"
      ],
      "metadata": {
        "id": "UrQp4tpUI6x-"
      }
    },
    {
      "cell_type": "code",
      "source": [
        "import matplotlib.pyplot as plot_tree\n",
        "\n",
        "plot_tree.hist(madres.SystolicBP, color='#328F83', rwidth=0.80)\n",
        "plot_tree.title('MUJERES GESTANTES-PRESIÓN SISTÓLICA')\n",
        "plot_tree.ylabel('Cantidad de mujeres')\n",
        "plot_tree.xlabel('Nivel de presión arterial elevada')\n",
        "plot_tree.show()"
      ],
      "metadata": {
        "colab": {
          "base_uri": "https://localhost:8080/",
          "height": 624
        },
        "id": "2c35EIbTDdSV",
        "outputId": "3fda3b9c-f5d5-472c-d2e0-0da8672c313d"
      },
      "execution_count": null,
      "outputs": [
        {
          "output_type": "display_data",
          "data": {
            "text/plain": [
              "<Figure size 720x720 with 1 Axes>"
            ],
            "image/png": "[encoded data removed]"
          },
          "metadata": {
            "needs_background": "light"
          }
        }
      ]
    }
  ]
}